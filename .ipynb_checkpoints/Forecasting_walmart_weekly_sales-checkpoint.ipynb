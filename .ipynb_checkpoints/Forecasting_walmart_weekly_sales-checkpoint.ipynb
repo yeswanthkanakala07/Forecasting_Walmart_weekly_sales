{
 "cells": [
  {
   "cell_type": "markdown",
   "metadata": {},
   "source": [
    "# Import Required Libraries\n",
    "Import the nbformat library to create and manipulate Jupyter notebook files."
   ]
  },
  {
   "cell_type": "code",
   "execution_count": null,
   "metadata": {},
   "outputs": [],
   "source": [
    "# Import the nbformat library to create and manipulate Jupyter notebook files\n",
    "import nbformat  # Library for creating and editing Jupyter notebook files"
   ]
  },
  {
   "cell_type": "markdown",
   "metadata": {},
   "source": [
    "# Create a New Notebook File\n",
    "Use nbformat to create a new notebook object with metadata and an empty cell list."
   ]
  },
  {
   "cell_type": "code",
   "execution_count": null,
   "metadata": {},
   "outputs": [],
   "source": [
    "# Create a new notebook object with metadata and an empty cell list\n",
    "new_notebook = nbformat.v4.new_notebook()  # Create a new notebook object\n",
    "new_notebook['metadata'] = {  # Add metadata to the notebook\n",
    "    \"title\": \"Programmatically Created Notebook\",\n",
    "    \"author\": \"GitHub Copilot\",\n",
    "    \"description\": \"This notebook was created programmatically using nbformat.\"\n",
    "}\n",
    "new_notebook['cells'] = []  # Initialize with an empty list of cells"
   ]
  },
  {
   "cell_type": "markdown",
   "metadata": {},
   "source": [
    "# Add Cells to the Notebook\n",
    "Add code and markdown cells to the notebook object using nbformat's new_code_cell and new_markdown_cell functions."
   ]
  },
  {
   "cell_type": "code",
   "execution_count": null,
   "metadata": {},
   "outputs": [],
   "source": [
    "# Add a code cell to the notebook\n",
    "code_cell = nbformat.v4.new_code_cell(  # Create a new code cell\n",
    "    source=\"print('Hello, this is a code cell!')\"  # Code to be executed in the cell\n",
    ")\n",
    "new_notebook['cells'].append(code_cell)  # Append the code cell to the notebook\n",
    "\n",
    "# Add a markdown cell to the notebook\n",
    "markdown_cell = nbformat.v4.new_markdown_cell(  # Create a new markdown cell\n",
    "    source=\"## This is a Markdown Cell\\nYou can add formatted text here.\"  # Markdown content\n",
    ")\n",
    "new_notebook['cells'].append(markdown_cell)  # Append the markdown cell to the notebook"
   ]
  },
  {
   "cell_type": "markdown",
   "metadata": {},
   "source": [
    "# Save the Notebook\n",
    "Write the notebook object to a .ipynb file using nbformat.write."
   ]
  },
  {
   "cell_type": "code",
   "execution_count": null,
   "metadata": {},
   "outputs": [],
   "source": [
    "# Save the notebook to a file\n",
    "with open(\"programmatically_created_notebook.ipynb\", \"w\", encoding=\"utf-8\") as notebook_file:\n",
    "    nbformat.write(new_notebook, notebook_file)  # Write the notebook object to a .ipynb file"
   ]
  }
 ],
 "metadata": {
  "language_info": {
   "name": "python"
  }
 },
 "nbformat": 4,
 "nbformat_minor": 2
}
