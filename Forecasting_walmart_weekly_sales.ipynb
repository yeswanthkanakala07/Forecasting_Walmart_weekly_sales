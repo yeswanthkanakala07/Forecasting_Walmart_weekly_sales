{
 "cells": [
  {
   "cell_type": "markdown",
   "metadata": {},
   "source": []
  },
  {
   "cell_type": "code",
   "execution_count": null,
   "metadata": {},
   "outputs": [],
   "source": [
    "#data analysis libraries\n",
    "import pandas as pd\n",
    "import numpy as np\n",
    "\n",
    "#visualization libraries\n",
    "\n",
    "import matplotlib.pyplot as plt \n",
    "import seaborn as sns \n",
    "import plotty.express as px \n",
    "from scipy.stats import pearsonr\n",
    "\n",
    "# Set the default figure size for Seaborn plots globally\n",
    "sns.set(rc={'figure.figsize':(10,6)})\n",
    "%matplotlib inline "
   ]
  }
 ],
 "metadata": {
  "kernelspec": {
   "display_name": "myenv",
   "language": "python",
   "name": "python3"
  },
  "language_info": {
   "codemirror_mode": {
    "name": "ipython",
    "version": 3
   },
   "file_extension": ".py",
   "mimetype": "text/x-python",
   "name": "python",
   "nbconvert_exporter": "python",
   "pygments_lexer": "ipython3",
   "version": "3.13.2"
  }
 },
 "nbformat": 4,
 "nbformat_minor": 4
}
